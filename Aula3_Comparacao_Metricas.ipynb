{
  "nbformat": 4,
  "nbformat_minor": 0,
  "metadata": {
    "colab": {
      "name": "Aula3_Comparacao_Metricas.ipynb",
      "provenance": [],
      "collapsed_sections": [],
      "include_colab_link": true
    },
    "kernelspec": {
      "name": "python2",
      "display_name": "Python 2"
    }
  },
  "cells": [
    {
      "cell_type": "markdown",
      "metadata": {
        "id": "view-in-github",
        "colab_type": "text"
      },
      "source": [
        "<a href=\"https://colab.research.google.com/github/mdietterle/TrabalhosMachineLearningPos/blob/main/Aula3_Comparacao_Metricas.ipynb\" target=\"_parent\"><img src=\"https://colab.research.google.com/assets/colab-badge.svg\" alt=\"Open In Colab\"/></a>"
      ]
    },
    {
      "cell_type": "markdown",
      "metadata": {
        "id": "qGJhelAPu2uO"
      },
      "source": [
        "# Aula 3 - Machine Learning\n",
        "\n",
        "# Exercício de fixação V - Métricas para Avaliação de Modelos\n",
        "\n",
        "### Prof. Dr. José Ahirton Lopes\n",
        "\n",
        "### Algoritmo para classificação de dados de clientes de uma telecom de acordo com sua possibiliade de evasão ou nao do serviço.\n",
        "\n",
        "Base diabetes - \n",
        "\n",
        "Ref. https://scikit-learn.org/stable/modules/generated/sklearn.datasets.load_diabetes.html\n"
      ]
    },
    {
      "cell_type": "markdown",
      "metadata": {
        "id": "E40i-GxmvTQA"
      },
      "source": [
        "Nossos imports serão o pandas, o datasets, nosso modelo linear e train_test_split do sckitlearn bem como o matplotlib:"
      ]
    },
    {
      "cell_type": "code",
      "metadata": {
        "id": "mkI2RiVEbWeJ"
      },
      "source": [
        "import pandas as pd\n",
        "from sklearn import datasets, linear_model\n",
        "from sklearn.model_selection import train_test_split\n",
        "from matplotlib import pyplot as plt"
      ],
      "execution_count": 3,
      "outputs": []
    },
    {
      "cell_type": "markdown",
      "metadata": {
        "id": "27n7WAvWvvni"
      },
      "source": [
        "Vamos analisar rapidamente as bibliotecas que importamos:\n",
        "\n",
        "Pandas - para carregar o arquivo de dados como um dataframe do Pandas e analisar os dados;\n",
        "\n",
        "No Sklearn, importamos o módulo de conjuntos de dados (databases) para carregar uma base de amostra e o linear_model para executar uma regressão linear;\n",
        "\n",
        "No Sklearn, com a sub-biblioteca model_selection, importamos então train_test_split para que possamos dividir corretamente nossos dados em conjuntos de treinamento e teste;\n",
        "\n",
        "Do Matplotlib, importamos o pyplot para plotar gráficos dos dados."
      ]
    },
    {
      "cell_type": "code",
      "metadata": {
        "id": "ZR4AqD3qbYWZ"
      },
      "source": [
        "# Carregando o dataset 'diabetes'\n",
        "\n",
        "# Declarando os nomes de nossas colunas\n",
        "columns = 'age sex bmi map tc ldl hdl tch ltg glu'.split()\n",
        "\n",
        "# Carregando o dataset 'diabetes'do sklearn\n",
        "diabetes = datasets.load_diabetes()\n",
        "\n",
        "# Carregando o dataset como um pandas dataframe\n",
        "df = pd.DataFrame(diabetes.data, columns=columns)\n",
        "\n",
        "#Definindo nossa variável 'alvo' (dependente) como y\n",
        "y = diabetes.target "
      ],
      "execution_count": 4,
      "outputs": []
    },
    {
      "cell_type": "code",
      "metadata": {
        "id": "icbaDJW3bgMj",
        "colab": {
          "base_uri": "https://localhost:8080/"
        },
        "outputId": "768e41df-2feb-4c41-fdbe-184dd20f4f96"
      },
      "source": [
        "# Criando nossos sets de treinamento e teste (Lembre-se, comumente será em uma proporçao de 70/30 ou 80/20)\n",
        "X_train, X_test, y_train, y_test = train_test_split(df, y, test_size=0.2)\n",
        "print (X_train.shape, y_train.shape)\n",
        "print (X_test.shape, y_test.shape)"
      ],
      "execution_count": 5,
      "outputs": [
        {
          "output_type": "stream",
          "name": "stdout",
          "text": [
            "(353, 10) (353,)\n",
            "(89, 10) (89,)\n"
          ]
        }
      ]
    },
    {
      "cell_type": "markdown",
      "metadata": {
        "id": "Qb6OeiHQxLsJ"
      },
      "source": [
        "Agora, ajustaremos o modelo aos dados de treinamento (model fitting):"
      ]
    },
    {
      "cell_type": "code",
      "metadata": {
        "id": "RjJSF5NXblu2"
      },
      "source": [
        "# Model fitting\n",
        "lm = linear_model.LinearRegression()\n",
        "model = lm.fit(X_train, y_train)\n",
        "predictions = lm.predict(X_test)"
      ],
      "execution_count": 6,
      "outputs": []
    },
    {
      "cell_type": "markdown",
      "metadata": {
        "id": "Zj2V4riiyo3y"
      },
      "source": [
        "Como você pode ver, estamos ajustando o modelo nos dados de treinamento e tentando prever os dados de teste. \n",
        "\n",
        "Vamos ver algumas das previsões:\n"
      ]
    },
    {
      "cell_type": "code",
      "metadata": {
        "id": "s3DkSFRkbp6d",
        "colab": {
          "base_uri": "https://localhost:8080/"
        },
        "outputId": "6db07cf5-2f8b-42d5-c128-1dc386f197f0"
      },
      "source": [
        "predictions[0:5]"
      ],
      "execution_count": 7,
      "outputs": [
        {
          "output_type": "execute_result",
          "data": {
            "text/plain": [
              "array([231.33287415, 186.91265308, 212.30549609, 139.92978989,\n",
              "       190.93869804])"
            ]
          },
          "metadata": {},
          "execution_count": 7
        }
      ]
    },
    {
      "cell_type": "markdown",
      "metadata": {
        "id": "h0mtNLRny3Qg"
      },
      "source": [
        "Obs: como usamos [0: 5] após as previsões, mostra-se então apenas os cinco primeiros valores previstos. \n",
        "\n",
        "Remover o [0: 5] faria com que fossem imprimidos todos os valores previstos que nosso modelo criou.\n",
        "\n",
        "Agora vamos plotar nosso modelo de regressão linear:"
      ]
    },
    {
      "cell_type": "code",
      "metadata": {
        "id": "iVUOAEu5bul0",
        "colab": {
          "base_uri": "https://localhost:8080/",
          "height": 296
        },
        "outputId": "c7bf0146-99a1-4982-e75a-4c0cd9f8de9d"
      },
      "source": [
        "## Modelo de regressao linear\n",
        "plt.scatter(y_test, predictions)\n",
        "plt.xlabel('Valores Verdadeiros')\n",
        "plt.ylabel('Predicoes')"
      ],
      "execution_count": 8,
      "outputs": [
        {
          "output_type": "execute_result",
          "data": {
            "text/plain": [
              "Text(0, 0.5, 'Predicoes')"
            ]
          },
          "metadata": {},
          "execution_count": 8
        },
        {
          "output_type": "display_data",
          "data": {
            "image/png": "[encoded data removed]",
            "text/plain": [
              "<Figure size 432x288 with 1 Axes>"
            ]
          },
          "metadata": {
            "needs_background": "light"
          }
        }
      ]
    },
    {
      "cell_type": "markdown",
      "metadata": {
        "id": "gUKdi517zl55"
      },
      "source": [
        "Score de acurácia para nosso modelo:"
      ]
    },
    {
      "cell_type": "code",
      "metadata": {
        "id": "dVTdKdIRb3cL",
        "colab": {
          "base_uri": "https://localhost:8080/"
        },
        "outputId": "9422b4eb-fb17-4139-fa8d-874f75c88f8d"
      },
      "source": [
        "print ('Score:', model.score(X_test, y_test))"
      ],
      "execution_count": 9,
      "outputs": [
        {
          "output_type": "stream",
          "name": "stdout",
          "text": [
            "Score: 0.5260457677110149\n"
          ]
        }
      ]
    },
    {
      "cell_type": "markdown",
      "metadata": {
        "id": "Qhf4tnhWzwJp"
      },
      "source": [
        "## Exercício de fixação VI / Desafio III - Validação Cruzada, K-Pastas e Leave One Out"
      ]
    },
    {
      "cell_type": "markdown",
      "metadata": {
        "id": "sUQb0Sz9z5U0"
      },
      "source": [
        "\n",
        "**[Desafio III]** Como desafio, atentem para a utilização do mesmo exemplo mas dessa vez com a utilização de validação via validação cruzada via K-Pastas (K-Folds Cross Validation)  e, a posteriori, façam o mesmo exemplo dessa vez com validação via Método Leave One Out (como visto em aula).\n",
        "\n",
        "Referências:\n",
        "\n",
        "https://scikit-learn.org/stable/modules/generated/sklearn.model_selection.KFold.html\n",
        "\n",
        "https://scikit-learn.org/stable/modules/generated/sklearn.model_selection.LeaveOneOut.html"
      ]
    },
    {
      "cell_type": "code",
      "metadata": {
        "id": "wUY502_rcB7R"
      },
      "source": [
        "# Imports necessários\n",
        "\n",
        "from sklearn.model_selection import cross_val_score, cross_val_predict\n",
        "from sklearn import metrics"
      ],
      "execution_count": 10,
      "outputs": []
    },
    {
      "cell_type": "code",
      "metadata": {
        "id": "rP7iujKvcOjY",
        "colab": {
          "base_uri": "https://localhost:8080/"
        },
        "outputId": "859574bf-ed9c-45f4-ad83-75df9176517c"
      },
      "source": [
        "# Fazendo nossa validação cruzada em 8 k-pastas\n",
        "\n",
        "scores = cross_val_score(model, df, y, cv=8)\n",
        "print ('Scores com Validação Cruzada:', scores)"
      ],
      "execution_count": 11,
      "outputs": [
        {
          "output_type": "stream",
          "name": "stdout",
          "text": [
            "Scores com Validação Cruzada: [0.50283713 0.18991026 0.56539865 0.36996563 0.60047052 0.33262653\n",
            " 0.41404403 0.68712879]\n"
          ]
        }
      ]
    },
    {
      "cell_type": "code",
      "metadata": {
        "id": "ria6Q_0DcjHV",
        "colab": {
          "base_uri": "https://localhost:8080/",
          "height": 282
        },
        "outputId": "7a2a1742-d7bd-4042-840c-91c17e820dd5"
      },
      "source": [
        "# Fazendo predições com nossa validação cruzada\n",
        "\n",
        "predictions = cross_val_predict(model, df, y, cv=6)\n",
        "plt.scatter(y, predictions)"
      ],
      "execution_count": 12,
      "outputs": [
        {
          "output_type": "execute_result",
          "data": {
            "text/plain": [
              "<matplotlib.collections.PathCollection at 0x7fb0e793ded0>"
            ]
          },
          "metadata": {},
          "execution_count": 12
        },
        {
          "output_type": "display_data",
          "data": {
            "image/png": "[encoded data removed]",
            "text/plain": [
              "<Figure size 432x288 with 1 Axes>"
            ]
          },
          "metadata": {
            "needs_background": "light"
          }
        }
      ]
    },
    {
      "cell_type": "markdown",
      "metadata": {
        "id": "dPYdDCE03t-6"
      },
      "source": [
        "Podemos ver que nosso plot é bem diferente do original, de nosso exemplo anterior. São oito vezes mais pontos que o gráfico original pois usamos cv = 8.\n",
        "\n",
        "Por fim, vamos verificar a pontuação R² do modelo. \n",
        "\n",
        "R² é um \"número que indica a proporção da variação na variável dependente que é previsível a partir da (s) variável (s) independente (s)\". \n",
        "\n",
        "Basicamente, quão preciso é o nosso modelo:\n"
      ]
    },
    {
      "cell_type": "code",
      "metadata": {
        "id": "PoIPN13_cni0",
        "colab": {
          "base_uri": "https://localhost:8080/"
        },
        "outputId": "a8b17c09-b331-436d-f5c7-802dbee270d3"
      },
      "source": [
        "accuracy = metrics.r2_score(y, predictions)\n",
        "print ('Acurácia via Predição Cruzada:', accuracy)"
      ],
      "execution_count": 13,
      "outputs": [
        {
          "output_type": "stream",
          "name": "stdout",
          "text": [
            "Acurácia via Predição Cruzada: 0.4908065838640776\n"
          ]
        }
      ]
    },
    {
      "cell_type": "markdown",
      "metadata": {
        "id": "K9POWIPR35rf"
      },
      "source": [
        "Para mais informações sobre outros scores/métricas favor consultar:\n",
        "\n",
        "Ref. https://towardsdatascience.com/machine-learning-cheat-sheet-model-evaluation-and-validation-b67565df6075"
      ]
    },
    {
      "cell_type": "markdown",
      "source": [
        "##Leave One Out\n",
        "\n",
        "**Passo 1**\n",
        "\n",
        "Importar bibliotecas **necessãrias** e aplicar a validação *Leave One Out*.\n",
        "\n",
        "Após, verificar os scores da validação."
      ],
      "metadata": {
        "id": "H52bseO0P_oL"
      }
    },
    {
      "cell_type": "code",
      "source": [
        "from sklearn.model_selection import LeaveOneOut\n",
        "\n",
        "cv = LeaveOneOut()\n",
        "\n",
        "scores = cross_val_score(model, df, y, scoring='neg_mean_absolute_error',\n",
        "                         cv=cv, n_jobs=-1)\n"
      ],
      "metadata": {
        "id": "nQ2lyQBqQMDu"
      },
      "execution_count": 14,
      "outputs": []
    },
    {
      "cell_type": "markdown",
      "source": [
        "**Passo 2 - Avaliar o desempenho**\n",
        "\n",
        " Avaliei o desemprnho do modelo através da raiz do erro médio quadrático (RMSE). \n",
        " \n",
        " Quanto menor o erro, melhor o modelo é capaz de prever as observações reais."
      ],
      "metadata": {
        "id": "eqRES2VTTcOb"
      }
    },
    {
      "cell_type": "code",
      "source": [
        "from numpy import mean\n",
        "from numpy import absolute\n",
        "from numpy import sqrt\n",
        "import numpy as np\n",
        "\n",
        "print(\"Folds: \" + str(len(scores)) + \", MSE: \" + str(np.mean(np.abs(scores))) + \", STD: \" + str(np.std(scores)))\n",
        "\n",
        "sqrt(mean(absolute(scores)))"
      ],
      "metadata": {
        "colab": {
          "base_uri": "https://localhost:8080/"
        },
        "id": "u-pyf4GaSSlf",
        "outputId": "59a11168-40fe-4bca-d6e6-e0b8b70523ed"
      },
      "execution_count": 16,
      "outputs": [
        {
          "output_type": "stream",
          "name": "stdout",
          "text": [
            "Folds: 442, MSE: 44.355660838454185, STD: 32.160870375612774\n"
          ]
        },
        {
          "output_type": "execute_result",
          "data": {
            "text/plain": [
              "6.660004567449949"
            ]
          },
          "metadata": {},
          "execution_count": 16
        }
      ]
    },
    {
      "cell_type": "markdown",
      "source": [
        "\\"
      ],
      "metadata": {
        "id": "-GiWtydfP-t2"
      }
    }
  ]
}