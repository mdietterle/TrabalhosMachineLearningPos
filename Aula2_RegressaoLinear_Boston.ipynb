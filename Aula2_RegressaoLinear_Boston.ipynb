{
  "nbformat": 4,
  "nbformat_minor": 0,
  "metadata": {
    "kernelspec": {
      "display_name": "Python 3",
      "language": "python",
      "name": "python3"
    },
    "language_info": {
      "codemirror_mode": {
        "name": "ipython",
        "version": 3
      },
      "file_extension": ".py",
      "mimetype": "text/x-python",
      "name": "python",
      "nbconvert_exporter": "python",
      "pygments_lexer": "ipython3",
      "version": "3.6.3"
    },
    "colab": {
      "name": "Aula2_RegressaoLinear_Boston.ipynb",
      "provenance": [],
      "collapsed_sections": [],
      "include_colab_link": true
    }
  },
  "cells": [
    {
      "cell_type": "markdown",
      "metadata": {
        "id": "view-in-github",
        "colab_type": "text"
      },
      "source": [
        "<a href=\"https://colab.research.google.com/github/mdietterle/TrabalhosMachineLearningPos/blob/main/Aula2_RegressaoLinear_Boston.ipynb\" target=\"_parent\"><img src=\"https://colab.research.google.com/assets/colab-badge.svg\" alt=\"Open In Colab\"/></a>"
      ]
    },
    {
      "cell_type": "markdown",
      "metadata": {
        "id": "wsU-cv-I23XE"
      },
      "source": [
        "# Aula 2 - Machine Learning\n",
        "\n",
        "##Exercício de fixação III / Desafio II - Regressão Linear e Árvore de Decisão\n",
        "\n",
        "<h4> Agora vamos analisar um exemplo mais complexo, envolvendo mais variáveis </h4>\n",
        "\n",
        "### Prof. Dr. José Ahirton Lopes\n"
      ]
    },
    {
      "cell_type": "markdown",
      "metadata": {
        "id": "HmA8JSm22Y46"
      },
      "source": [
        "Nosso primeiro exercício é uma regressão linear simples, analisando peso, altura e sexo de 200 pessoas:"
      ]
    },
    {
      "cell_type": "code",
      "metadata": {
        "id": "GdDOAXEj2Y47"
      },
      "source": [
        "import matplotlib.pyplot as plt\n",
        "import seaborn as sns\n",
        "import numpy as np\n",
        "import pandas as pd\n",
        "from sklearn.linear_model import LinearRegression\n",
        "from sklearn.metrics import mean_squared_error\n",
        "%matplotlib inline\n",
        "from sklearn.tree import DecisionTreeClassifier"
      ],
      "execution_count": null,
      "outputs": []
    },
    {
      "cell_type": "markdown",
      "metadata": {
        "id": "nuN3gm792Y6P"
      },
      "source": [
        "Neste exercício vamos prever o valor mediano de uma casa na redondeza de Boston dados determinados atributos. Para isso utilizamos a base de dados 'boston.csv'"
      ]
    },
    {
      "cell_type": "code",
      "metadata": {
        "id": "nKzgNCSU9tvJ",
        "colab": {
          "resources": {
            "http://localhost:8080/nbextensions/google.colab/files.js": {
              "data": "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",
              "ok": true,
              "headers": [
                [
                  "content-type",
                  "application/javascript"
                ]
              ],
              "status": 200,
              "status_text": ""
            }
          },
          "base_uri": "https://localhost:8080/",
          "height": 90
        },
        "outputId": "da3f30a2-4302-40ce-ff2e-b93ea4451b96"
      },
      "source": [
        "from google.colab import files\n",
        "\n",
        "uploaded = files.upload()\n",
        "\n",
        "for fn in uploaded.keys():\n",
        "  print('User uploaded file \"{name}\" with length {length} bytes'.format(\n",
        "      name=fn, length=len(uploaded[fn])))"
      ],
      "execution_count": null,
      "outputs": [
        {
          "output_type": "display_data",
          "data": {
            "text/html": [
              "\n",
              "     <input type=\"file\" id=\"files-7e455c74-b131-45cb-9259-6a56e4af02e4\" name=\"files[]\" multiple disabled\n",
              "        style=\"border:none\" />\n",
              "     <output id=\"result-7e455c74-b131-45cb-9259-6a56e4af02e4\">\n",
              "      Upload widget is only available when the cell has been executed in the\n",
              "      current browser session. Please rerun this cell to enable.\n",
              "      </output>\n",
              "      <script src=\"/nbextensions/google.colab/files.js\"></script> "
            ],
            "text/plain": [
              "<IPython.core.display.HTML object>"
            ]
          },
          "metadata": {}
        },
        {
          "output_type": "stream",
          "name": "stdout",
          "text": [
            "Saving boston.csv to boston.csv\n",
            "User uploaded file \"boston.csv\" with length 62506 bytes\n"
          ]
        }
      ]
    },
    {
      "cell_type": "code",
      "metadata": {
        "id": "C696UR7iDBir"
      },
      "source": [
        "data = pd.read_csv('boston.csv', sep=';', decimal=',')"
      ],
      "execution_count": null,
      "outputs": []
    },
    {
      "cell_type": "markdown",
      "metadata": {
        "id": "kGDMfNx72Y6T"
      },
      "source": [
        "Vamos analisar as 5 primeiras linhas dos nossos dados com o método head() "
      ]
    },
    {
      "cell_type": "code",
      "metadata": {
        "id": "P1yVxRAp2Y6T",
        "colab": {
          "base_uri": "https://localhost:8080/",
          "height": 206
        },
        "outputId": "6a79c7d6-603f-434a-a923-9b83ca02fd77"
      },
      "source": [
        "data.head()"
      ],
      "execution_count": null,
      "outputs": [
        {
          "output_type": "execute_result",
          "data": {
            "text/html": [
              "\n",
              "  <div id=\"df-340a4c4e-9f3f-48ce-9508-3336682f61e7\">\n",
              "    <div class=\"colab-df-container\">\n",
              "      <div>\n",
              "<style scoped>\n",
              "    .dataframe tbody tr th:only-of-type {\n",
              "        vertical-align: middle;\n",
              "    }\n",
              "\n",
              "    .dataframe tbody tr th {\n",
              "        vertical-align: top;\n",
              "    }\n",
              "\n",
              "    .dataframe thead th {\n",
              "        text-align: right;\n",
              "    }\n",
              "</style>\n",
              "<table border=\"1\" class=\"dataframe\">\n",
              "  <thead>\n",
              "    <tr style=\"text-align: right;\">\n",
              "      <th></th>\n",
              "      <th>CRIM</th>\n",
              "      <th>ZN</th>\n",
              "      <th>INDUS</th>\n",
              "      <th>CHAS</th>\n",
              "      <th>NOX</th>\n",
              "      <th>RM</th>\n",
              "      <th>AGE</th>\n",
              "      <th>DIS</th>\n",
              "      <th>RAD</th>\n",
              "      <th>TAX</th>\n",
              "      <th>PT</th>\n",
              "      <th>B</th>\n",
              "      <th>LSTAT</th>\n",
              "      <th>MV</th>\n",
              "    </tr>\n",
              "  </thead>\n",
              "  <tbody>\n",
              "    <tr>\n",
              "      <th>0</th>\n",
              "      <td>0.00632</td>\n",
              "      <td>18.0</td>\n",
              "      <td>2.31</td>\n",
              "      <td>0</td>\n",
              "      <td>0.538</td>\n",
              "      <td>6.575</td>\n",
              "      <td>65.199997</td>\n",
              "      <td>4.0900</td>\n",
              "      <td>1</td>\n",
              "      <td>296</td>\n",
              "      <td>15.300000</td>\n",
              "      <td>396.899994</td>\n",
              "      <td>4.98</td>\n",
              "      <td>24.000000</td>\n",
              "    </tr>\n",
              "    <tr>\n",
              "      <th>1</th>\n",
              "      <td>0.02731</td>\n",
              "      <td>0.0</td>\n",
              "      <td>7.07</td>\n",
              "      <td>0</td>\n",
              "      <td>0.469</td>\n",
              "      <td>6.421</td>\n",
              "      <td>78.900002</td>\n",
              "      <td>4.9671</td>\n",
              "      <td>2</td>\n",
              "      <td>242</td>\n",
              "      <td>17.799999</td>\n",
              "      <td>396.899994</td>\n",
              "      <td>9.14</td>\n",
              "      <td>21.600000</td>\n",
              "    </tr>\n",
              "    <tr>\n",
              "      <th>2</th>\n",
              "      <td>0.02729</td>\n",
              "      <td>0.0</td>\n",
              "      <td>7.07</td>\n",
              "      <td>0</td>\n",
              "      <td>0.469</td>\n",
              "      <td>7.185</td>\n",
              "      <td>61.099998</td>\n",
              "      <td>4.9671</td>\n",
              "      <td>2</td>\n",
              "      <td>242</td>\n",
              "      <td>17.799999</td>\n",
              "      <td>392.829987</td>\n",
              "      <td>4.03</td>\n",
              "      <td>34.700001</td>\n",
              "    </tr>\n",
              "    <tr>\n",
              "      <th>3</th>\n",
              "      <td>0.03237</td>\n",
              "      <td>0.0</td>\n",
              "      <td>2.18</td>\n",
              "      <td>0</td>\n",
              "      <td>0.458</td>\n",
              "      <td>6.998</td>\n",
              "      <td>45.799999</td>\n",
              "      <td>6.0622</td>\n",
              "      <td>3</td>\n",
              "      <td>222</td>\n",
              "      <td>18.700001</td>\n",
              "      <td>394.630005</td>\n",
              "      <td>2.94</td>\n",
              "      <td>33.400002</td>\n",
              "    </tr>\n",
              "    <tr>\n",
              "      <th>4</th>\n",
              "      <td>0.06905</td>\n",
              "      <td>0.0</td>\n",
              "      <td>2.18</td>\n",
              "      <td>0</td>\n",
              "      <td>0.458</td>\n",
              "      <td>7.147</td>\n",
              "      <td>54.200001</td>\n",
              "      <td>6.0622</td>\n",
              "      <td>3</td>\n",
              "      <td>222</td>\n",
              "      <td>18.700001</td>\n",
              "      <td>396.899994</td>\n",
              "      <td>5.33</td>\n",
              "      <td>36.200001</td>\n",
              "    </tr>\n",
              "  </tbody>\n",
              "</table>\n",
              "</div>\n",
              "      <button class=\"colab-df-convert\" onclick=\"convertToInteractive('df-340a4c4e-9f3f-48ce-9508-3336682f61e7')\"\n",
              "              title=\"Convert this dataframe to an interactive table.\"\n",
              "              style=\"display:none;\">\n",
              "        \n",
              "  <svg xmlns=\"http://www.w3.org/2000/svg\" height=\"24px\"viewBox=\"0 0 24 24\"\n",
              "       width=\"24px\">\n",
              "    <path d=\"M0 0h24v24H0V0z\" fill=\"none\"/>\n",
              "    <path d=\"M18.56 5.44l.94 2.06.94-2.06 2.06-.94-2.06-.94-.94-2.06-.94 2.06-2.06.94zm-11 1L8.5 8.5l.94-2.06 2.06-.94-2.06-.94L8.5 2.5l-.94 2.06-2.06.94zm10 10l.94 2.06.94-2.06 2.06-.94-2.06-.94-.94-2.06-.94 2.06-2.06.94z\"/><path d=\"M17.41 7.96l-1.37-1.37c-.4-.4-.92-.59-1.43-.59-.52 0-1.04.2-1.43.59L10.3 9.45l-7.72 7.72c-.78.78-.78 2.05 0 2.83L4 21.41c.39.39.9.59 1.41.59.51 0 1.02-.2 1.41-.59l7.78-7.78 2.81-2.81c.8-.78.8-2.07 0-2.86zM5.41 20L4 18.59l7.72-7.72 1.47 1.35L5.41 20z\"/>\n",
              "  </svg>\n",
              "      </button>\n",
              "      \n",
              "  <style>\n",
              "    .colab-df-container {\n",
              "      display:flex;\n",
              "      flex-wrap:wrap;\n",
              "      gap: 12px;\n",
              "    }\n",
              "\n",
              "    .colab-df-convert {\n",
              "      background-color: #E8F0FE;\n",
              "      border: none;\n",
              "      border-radius: 50%;\n",
              "      cursor: pointer;\n",
              "      display: none;\n",
              "      fill: #1967D2;\n",
              "      height: 32px;\n",
              "      padding: 0 0 0 0;\n",
              "      width: 32px;\n",
              "    }\n",
              "\n",
              "    .colab-df-convert:hover {\n",
              "      background-color: #E2EBFA;\n",
              "      box-shadow: 0px 1px 2px rgba(60, 64, 67, 0.3), 0px 1px 3px 1px rgba(60, 64, 67, 0.15);\n",
              "      fill: #174EA6;\n",
              "    }\n",
              "\n",
              "    [theme=dark] .colab-df-convert {\n",
              "      background-color: #3B4455;\n",
              "      fill: #D2E3FC;\n",
              "    }\n",
              "\n",
              "    [theme=dark] .colab-df-convert:hover {\n",
              "      background-color: #434B5C;\n",
              "      box-shadow: 0px 1px 3px 1px rgba(0, 0, 0, 0.15);\n",
              "      filter: drop-shadow(0px 1px 2px rgba(0, 0, 0, 0.3));\n",
              "      fill: #FFFFFF;\n",
              "    }\n",
              "  </style>\n",
              "\n",
              "      <script>\n",
              "        const buttonEl =\n",
              "          document.querySelector('#df-340a4c4e-9f3f-48ce-9508-3336682f61e7 button.colab-df-convert');\n",
              "        buttonEl.style.display =\n",
              "          google.colab.kernel.accessAllowed ? 'block' : 'none';\n",
              "\n",
              "        async function convertToInteractive(key) {\n",
              "          const element = document.querySelector('#df-340a4c4e-9f3f-48ce-9508-3336682f61e7');\n",
              "          const dataTable =\n",
              "            await google.colab.kernel.invokeFunction('convertToInteractive',\n",
              "                                                     [key], {});\n",
              "          if (!dataTable) return;\n",
              "\n",
              "          const docLinkHtml = 'Like what you see? Visit the ' +\n",
              "            '<a target=\"_blank\" href=https://colab.research.google.com/notebooks/data_table.ipynb>data table notebook</a>'\n",
              "            + ' to learn more about interactive tables.';\n",
              "          element.innerHTML = '';\n",
              "          dataTable['output_type'] = 'display_data';\n",
              "          await google.colab.output.renderOutput(dataTable, element);\n",
              "          const docLink = document.createElement('div');\n",
              "          docLink.innerHTML = docLinkHtml;\n",
              "          element.appendChild(docLink);\n",
              "        }\n",
              "      </script>\n",
              "    </div>\n",
              "  </div>\n",
              "  "
            ],
            "text/plain": [
              "      CRIM    ZN  INDUS  CHAS  ...         PT           B  LSTAT         MV\n",
              "0  0.00632  18.0   2.31     0  ...  15.300000  396.899994   4.98  24.000000\n",
              "1  0.02731   0.0   7.07     0  ...  17.799999  396.899994   9.14  21.600000\n",
              "2  0.02729   0.0   7.07     0  ...  17.799999  392.829987   4.03  34.700001\n",
              "3  0.03237   0.0   2.18     0  ...  18.700001  394.630005   2.94  33.400002\n",
              "4  0.06905   0.0   2.18     0  ...  18.700001  396.899994   5.33  36.200001\n",
              "\n",
              "[5 rows x 14 columns]"
            ]
          },
          "metadata": {},
          "execution_count": 4
        }
      ]
    },
    {
      "cell_type": "markdown",
      "metadata": {
        "id": "uDsr0k5-2Y6V"
      },
      "source": [
        "De acordo com nosso conjunto de dados, temos então 14 colunas:<br>\n",
        "    <b>CRIM</b>: taxa de crimes per capta na cidade <br>\n",
        "    <b>ZN</b>: proporção de terrenos residenciais zoneada para lotes acima de 25.000<br>\n",
        "    <b>INDUS</b>: proporção de zonas de negócios não varejistas na cidade<br>\n",
        "    <b>CHAS</b>: proximidade ao rio Carles 1 se próximo, 0 se não<br>\n",
        "    <b>NOX</b>: concentração de oxido nitrico (ppm)<br>\n",
        "    <b>RM</b>: número médio de cômodos por residência<br>\n",
        "    <b>AGE</b>: proporção de unidades ocupadas pelo proprietário construídas antes de 1940<br>\n",
        "    <b>DIS</b>: distância ponderada aos 5 centros financeiros de Boston<br>\n",
        "    <b>RAD</b>: índice de acessibilidade às rodoviais <br>\n",
        "    <b>TAX</b>: taxa de imposto predial de valor integral por USS 10.000 <br>\n",
        "    <b>PT</b>: relação aluno-professor por cidade<br>\n",
        "    <b>B</b>: 1000 (Bk − 0,63) 2 onde Bk é a proporção de negros por cidade<br>\n",
        "    <b>LSTAT</b>: menor status da população <br>\n",
        "    <b>MV</b>: Valor mediano de casas ocupadas pelo proprietário em USS 1000s"
      ]
    },
    {
      "cell_type": "markdown",
      "metadata": {
        "id": "h3YkPgL72Y6W"
      },
      "source": [
        "A fim de obtermos mais detalhes sobre os dados numéricos, podemos usar o método describe():"
      ]
    },
    {
      "cell_type": "code",
      "metadata": {
        "id": "p2Oe5Iwo2Y6W",
        "colab": {
          "base_uri": "https://localhost:8080/",
          "height": 364
        },
        "outputId": "4ce9d90b-611a-4e1f-92e8-2302f23ea6ce"
      },
      "source": [
        "data.describe()"
      ],
      "execution_count": null,
      "outputs": [
        {
          "output_type": "execute_result",
          "data": {
            "text/html": [
              "\n",
              "  <div id=\"df-d3559d41-5226-4d33-bac0-909e18e3705a\">\n",
              "    <div class=\"colab-df-container\">\n",
              "      <div>\n",
              "<style scoped>\n",
              "    .dataframe tbody tr th:only-of-type {\n",
              "        vertical-align: middle;\n",
              "    }\n",
              "\n",
              "    .dataframe tbody tr th {\n",
              "        vertical-align: top;\n",
              "    }\n",
              "\n",
              "    .dataframe thead th {\n",
              "        text-align: right;\n",
              "    }\n",
              "</style>\n",
              "<table border=\"1\" class=\"dataframe\">\n",
              "  <thead>\n",
              "    <tr style=\"text-align: right;\">\n",
              "      <th></th>\n",
              "      <th>CRIM</th>\n",
              "      <th>ZN</th>\n",
              "      <th>INDUS</th>\n",
              "      <th>CHAS</th>\n",
              "      <th>NOX</th>\n",
              "      <th>RM</th>\n",
              "      <th>AGE</th>\n",
              "      <th>DIS</th>\n",
              "      <th>RAD</th>\n",
              "      <th>TAX</th>\n",
              "      <th>PT</th>\n",
              "      <th>B</th>\n",
              "      <th>LSTAT</th>\n",
              "      <th>MV</th>\n",
              "    </tr>\n",
              "  </thead>\n",
              "  <tbody>\n",
              "    <tr>\n",
              "      <th>count</th>\n",
              "      <td>506.000000</td>\n",
              "      <td>506.000000</td>\n",
              "      <td>506.000000</td>\n",
              "      <td>506.000000</td>\n",
              "      <td>506.000000</td>\n",
              "      <td>506.000000</td>\n",
              "      <td>506.000000</td>\n",
              "      <td>506.000000</td>\n",
              "      <td>506.000000</td>\n",
              "      <td>506.000000</td>\n",
              "      <td>506.000000</td>\n",
              "      <td>506.000000</td>\n",
              "      <td>506.000000</td>\n",
              "      <td>506.000000</td>\n",
              "    </tr>\n",
              "    <tr>\n",
              "      <th>mean</th>\n",
              "      <td>3.613524</td>\n",
              "      <td>11.363636</td>\n",
              "      <td>11.136779</td>\n",
              "      <td>0.069170</td>\n",
              "      <td>0.554695</td>\n",
              "      <td>6.284634</td>\n",
              "      <td>68.574901</td>\n",
              "      <td>3.795043</td>\n",
              "      <td>9.549407</td>\n",
              "      <td>408.237154</td>\n",
              "      <td>18.455534</td>\n",
              "      <td>356.674030</td>\n",
              "      <td>12.653063</td>\n",
              "      <td>22.532806</td>\n",
              "    </tr>\n",
              "    <tr>\n",
              "      <th>std</th>\n",
              "      <td>8.601545</td>\n",
              "      <td>23.322453</td>\n",
              "      <td>6.860353</td>\n",
              "      <td>0.253994</td>\n",
              "      <td>0.115878</td>\n",
              "      <td>0.702617</td>\n",
              "      <td>28.148862</td>\n",
              "      <td>2.105710</td>\n",
              "      <td>8.707259</td>\n",
              "      <td>168.537116</td>\n",
              "      <td>2.164946</td>\n",
              "      <td>91.294863</td>\n",
              "      <td>7.141062</td>\n",
              "      <td>9.197104</td>\n",
              "    </tr>\n",
              "    <tr>\n",
              "      <th>min</th>\n",
              "      <td>0.006320</td>\n",
              "      <td>0.000000</td>\n",
              "      <td>0.460000</td>\n",
              "      <td>0.000000</td>\n",
              "      <td>0.385000</td>\n",
              "      <td>3.561000</td>\n",
              "      <td>2.900000</td>\n",
              "      <td>1.129600</td>\n",
              "      <td>1.000000</td>\n",
              "      <td>187.000000</td>\n",
              "      <td>12.600000</td>\n",
              "      <td>0.320000</td>\n",
              "      <td>1.730000</td>\n",
              "      <td>5.000000</td>\n",
              "    </tr>\n",
              "    <tr>\n",
              "      <th>25%</th>\n",
              "      <td>0.082045</td>\n",
              "      <td>0.000000</td>\n",
              "      <td>5.190000</td>\n",
              "      <td>0.000000</td>\n",
              "      <td>0.449000</td>\n",
              "      <td>5.885500</td>\n",
              "      <td>45.025000</td>\n",
              "      <td>2.100175</td>\n",
              "      <td>4.000000</td>\n",
              "      <td>279.000000</td>\n",
              "      <td>17.400000</td>\n",
              "      <td>375.377487</td>\n",
              "      <td>6.950000</td>\n",
              "      <td>17.025000</td>\n",
              "    </tr>\n",
              "    <tr>\n",
              "      <th>50%</th>\n",
              "      <td>0.256510</td>\n",
              "      <td>0.000000</td>\n",
              "      <td>9.690000</td>\n",
              "      <td>0.000000</td>\n",
              "      <td>0.538000</td>\n",
              "      <td>6.208500</td>\n",
              "      <td>77.500000</td>\n",
              "      <td>3.207450</td>\n",
              "      <td>5.000000</td>\n",
              "      <td>330.000000</td>\n",
              "      <td>19.050000</td>\n",
              "      <td>391.440002</td>\n",
              "      <td>11.360000</td>\n",
              "      <td>21.200001</td>\n",
              "    </tr>\n",
              "    <tr>\n",
              "      <th>75%</th>\n",
              "      <td>3.677083</td>\n",
              "      <td>12.500000</td>\n",
              "      <td>18.100000</td>\n",
              "      <td>0.000000</td>\n",
              "      <td>0.624000</td>\n",
              "      <td>6.623500</td>\n",
              "      <td>94.074999</td>\n",
              "      <td>5.188425</td>\n",
              "      <td>24.000000</td>\n",
              "      <td>666.000000</td>\n",
              "      <td>20.200001</td>\n",
              "      <td>396.225006</td>\n",
              "      <td>16.954999</td>\n",
              "      <td>25.000000</td>\n",
              "    </tr>\n",
              "    <tr>\n",
              "      <th>max</th>\n",
              "      <td>88.976196</td>\n",
              "      <td>100.000000</td>\n",
              "      <td>27.740000</td>\n",
              "      <td>1.000000</td>\n",
              "      <td>0.871000</td>\n",
              "      <td>8.780000</td>\n",
              "      <td>100.000000</td>\n",
              "      <td>12.126500</td>\n",
              "      <td>24.000000</td>\n",
              "      <td>711.000000</td>\n",
              "      <td>22.000000</td>\n",
              "      <td>396.899994</td>\n",
              "      <td>37.970001</td>\n",
              "      <td>50.000000</td>\n",
              "    </tr>\n",
              "  </tbody>\n",
              "</table>\n",
              "</div>\n",
              "      <button class=\"colab-df-convert\" onclick=\"convertToInteractive('df-d3559d41-5226-4d33-bac0-909e18e3705a')\"\n",
              "              title=\"Convert this dataframe to an interactive table.\"\n",
              "              style=\"display:none;\">\n",
              "        \n",
              "  <svg xmlns=\"http://www.w3.org/2000/svg\" height=\"24px\"viewBox=\"0 0 24 24\"\n",
              "       width=\"24px\">\n",
              "    <path d=\"M0 0h24v24H0V0z\" fill=\"none\"/>\n",
              "    <path d=\"M18.56 5.44l.94 2.06.94-2.06 2.06-.94-2.06-.94-.94-2.06-.94 2.06-2.06.94zm-11 1L8.5 8.5l.94-2.06 2.06-.94-2.06-.94L8.5 2.5l-.94 2.06-2.06.94zm10 10l.94 2.06.94-2.06 2.06-.94-2.06-.94-.94-2.06-.94 2.06-2.06.94z\"/><path d=\"M17.41 7.96l-1.37-1.37c-.4-.4-.92-.59-1.43-.59-.52 0-1.04.2-1.43.59L10.3 9.45l-7.72 7.72c-.78.78-.78 2.05 0 2.83L4 21.41c.39.39.9.59 1.41.59.51 0 1.02-.2 1.41-.59l7.78-7.78 2.81-2.81c.8-.78.8-2.07 0-2.86zM5.41 20L4 18.59l7.72-7.72 1.47 1.35L5.41 20z\"/>\n",
              "  </svg>\n",
              "      </button>\n",
              "      \n",
              "  <style>\n",
              "    .colab-df-container {\n",
              "      display:flex;\n",
              "      flex-wrap:wrap;\n",
              "      gap: 12px;\n",
              "    }\n",
              "\n",
              "    .colab-df-convert {\n",
              "      background-color: #E8F0FE;\n",
              "      border: none;\n",
              "      border-radius: 50%;\n",
              "      cursor: pointer;\n",
              "      display: none;\n",
              "      fill: #1967D2;\n",
              "      height: 32px;\n",
              "      padding: 0 0 0 0;\n",
              "      width: 32px;\n",
              "    }\n",
              "\n",
              "    .colab-df-convert:hover {\n",
              "      background-color: #E2EBFA;\n",
              "      box-shadow: 0px 1px 2px rgba(60, 64, 67, 0.3), 0px 1px 3px 1px rgba(60, 64, 67, 0.15);\n",
              "      fill: #174EA6;\n",
              "    }\n",
              "\n",
              "    [theme=dark] .colab-df-convert {\n",
              "      background-color: #3B4455;\n",
              "      fill: #D2E3FC;\n",
              "    }\n",
              "\n",
              "    [theme=dark] .colab-df-convert:hover {\n",
              "      background-color: #434B5C;\n",
              "      box-shadow: 0px 1px 3px 1px rgba(0, 0, 0, 0.15);\n",
              "      filter: drop-shadow(0px 1px 2px rgba(0, 0, 0, 0.3));\n",
              "      fill: #FFFFFF;\n",
              "    }\n",
              "  </style>\n",
              "\n",
              "      <script>\n",
              "        const buttonEl =\n",
              "          document.querySelector('#df-d3559d41-5226-4d33-bac0-909e18e3705a button.colab-df-convert');\n",
              "        buttonEl.style.display =\n",
              "          google.colab.kernel.accessAllowed ? 'block' : 'none';\n",
              "\n",
              "        async function convertToInteractive(key) {\n",
              "          const element = document.querySelector('#df-d3559d41-5226-4d33-bac0-909e18e3705a');\n",
              "          const dataTable =\n",
              "            await google.colab.kernel.invokeFunction('convertToInteractive',\n",
              "                                                     [key], {});\n",
              "          if (!dataTable) return;\n",
              "\n",
              "          const docLinkHtml = 'Like what you see? Visit the ' +\n",
              "            '<a target=\"_blank\" href=https://colab.research.google.com/notebooks/data_table.ipynb>data table notebook</a>'\n",
              "            + ' to learn more about interactive tables.';\n",
              "          element.innerHTML = '';\n",
              "          dataTable['output_type'] = 'display_data';\n",
              "          await google.colab.output.renderOutput(dataTable, element);\n",
              "          const docLink = document.createElement('div');\n",
              "          docLink.innerHTML = docLinkHtml;\n",
              "          element.appendChild(docLink);\n",
              "        }\n",
              "      </script>\n",
              "    </div>\n",
              "  </div>\n",
              "  "
            ],
            "text/plain": [
              "             CRIM          ZN       INDUS  ...           B       LSTAT          MV\n",
              "count  506.000000  506.000000  506.000000  ...  506.000000  506.000000  506.000000\n",
              "mean     3.613524   11.363636   11.136779  ...  356.674030   12.653063   22.532806\n",
              "std      8.601545   23.322453    6.860353  ...   91.294863    7.141062    9.197104\n",
              "min      0.006320    0.000000    0.460000  ...    0.320000    1.730000    5.000000\n",
              "25%      0.082045    0.000000    5.190000  ...  375.377487    6.950000   17.025000\n",
              "50%      0.256510    0.000000    9.690000  ...  391.440002   11.360000   21.200001\n",
              "75%      3.677083   12.500000   18.100000  ...  396.225006   16.954999   25.000000\n",
              "max     88.976196  100.000000   27.740000  ...  396.899994   37.970001   50.000000\n",
              "\n",
              "[8 rows x 14 columns]"
            ]
          },
          "metadata": {},
          "execution_count": 5
        }
      ]
    },
    {
      "cell_type": "markdown",
      "metadata": {
        "id": "vt1mjXpO2Y6a"
      },
      "source": [
        "Podemos visualizar a distribuição dos dados por meio de um histograma:"
      ]
    },
    {
      "cell_type": "code",
      "metadata": {
        "id": "ZaFoLtYv2Y6c",
        "colab": {
          "base_uri": "https://localhost:8080/",
          "height": 1000
        },
        "outputId": "90a3ca82-7d8c-4629-fb78-1a6b3a44e18c"
      },
      "source": [
        "data.hist(bins=50, figsize=(20,15))"
      ],
      "execution_count": null,
      "outputs": [
        {
          "output_type": "execute_result",
          "data": {
            "text/plain": [
              "array([[<matplotlib.axes._subplots.AxesSubplot object at 0x7fdcb92d4b90>,\n",
              "        <matplotlib.axes._subplots.AxesSubplot object at 0x7fdcb92b5190>,\n",
              "        <matplotlib.axes._subplots.AxesSubplot object at 0x7fdcb926e790>,\n",
              "        <matplotlib.axes._subplots.AxesSubplot object at 0x7fdcb9224d90>],\n",
              "       [<matplotlib.axes._subplots.AxesSubplot object at 0x7fdcb91e73d0>,\n",
              "        <matplotlib.axes._subplots.AxesSubplot object at 0x7fdcb919b9d0>,\n",
              "        <matplotlib.axes._subplots.AxesSubplot object at 0x7fdcb91c8b10>,\n",
              "        <matplotlib.axes._subplots.AxesSubplot object at 0x7fdcb91155d0>],\n",
              "       [<matplotlib.axes._subplots.AxesSubplot object at 0x7fdcb9115610>,\n",
              "        <matplotlib.axes._subplots.AxesSubplot object at 0x7fdcb9149d10>,\n",
              "        <matplotlib.axes._subplots.AxesSubplot object at 0x7fdcb90c4850>,\n",
              "        <matplotlib.axes._subplots.AxesSubplot object at 0x7fdcb9079e50>],\n",
              "       [<matplotlib.axes._subplots.AxesSubplot object at 0x7fdcb903a490>,\n",
              "        <matplotlib.axes._subplots.AxesSubplot object at 0x7fdcb8ff1a90>,\n",
              "        <matplotlib.axes._subplots.AxesSubplot object at 0x7fdcb8fb40d0>,\n",
              "        <matplotlib.axes._subplots.AxesSubplot object at 0x7fdcb8f686d0>]],\n",
              "      dtype=object)"
            ]
          },
          "metadata": {},
          "execution_count": 6
        },
        {
          "output_type": "display_data",
          "data": {
            "image/png": "[encoded data removed]",
            "text/plain": [
              "<Figure size 1440x1080 with 16 Axes>"
            ]
          },
          "metadata": {
            "needs_background": "light"
          }
        }
      ]
    },
    {
      "cell_type": "markdown",
      "metadata": {
        "id": "6BY_r0zb2Y6d"
      },
      "source": [
        "Agora que conhecemos os dados, podemos aplicar o método de regressão linear. Para isso especificamos qual será nossa varável dependente (y) e as variáveis independetes (X), ou atributos."
      ]
    },
    {
      "cell_type": "code",
      "metadata": {
        "id": "QuIu4qYZ2Y6e"
      },
      "source": [
        "y = data['MV']\n",
        "X = data.drop('MV', axis=1)"
      ],
      "execution_count": null,
      "outputs": []
    },
    {
      "cell_type": "code",
      "metadata": {
        "id": "L59Dbvut2Y6h",
        "colab": {
          "base_uri": "https://localhost:8080/"
        },
        "outputId": "7d7af081-d4fb-4222-87b7-202685021711"
      },
      "source": [
        "lin_reg = LinearRegression()\n",
        "lin_reg.fit(X, y)"
      ],
      "execution_count": null,
      "outputs": [
        {
          "output_type": "execute_result",
          "data": {
            "text/plain": [
              "LinearRegression()"
            ]
          },
          "metadata": {},
          "execution_count": 8
        }
      ]
    },
    {
      "cell_type": "markdown",
      "metadata": {
        "id": "nDislgYP2Y6k"
      },
      "source": [
        "Agora que temos um modelo treinado, podemos prever o valor de um novo exemplo:"
      ]
    },
    {
      "cell_type": "code",
      "metadata": {
        "id": "vyb8dCqp2Y6k"
      },
      "source": [
        "x_new = [[0.02731, 0.0, 7.07, 0, 0.469, 6.421, \n",
        "          78.900002, 4.9671, 2, 242, 17.799999, 396.899994, 9.14]]"
      ],
      "execution_count": null,
      "outputs": []
    },
    {
      "cell_type": "code",
      "metadata": {
        "id": "hswH0qGi2Y6m",
        "colab": {
          "base_uri": "https://localhost:8080/"
        },
        "outputId": "a49f2ecf-ad98-4181-81b9-a519cbf6e63f"
      },
      "source": [
        "lin_reg.predict(x_new)"
      ],
      "execution_count": null,
      "outputs": [
        {
          "output_type": "stream",
          "name": "stderr",
          "text": [
            "/usr/local/lib/python3.7/dist-packages/sklearn/base.py:446: UserWarning: X does not have valid feature names, but LinearRegression was fitted with feature names\n",
            "  \"X does not have valid feature names, but\"\n"
          ]
        },
        {
          "output_type": "execute_result",
          "data": {
            "text/plain": [
              "array([25.02556341])"
            ]
          },
          "metadata": {},
          "execution_count": 10
        }
      ]
    },
    {
      "cell_type": "markdown",
      "metadata": {
        "id": "Ag7s_DHL2Y6p"
      },
      "source": [
        "Também podemos prever uma lista de valores de uma única vez:"
      ]
    },
    {
      "cell_type": "code",
      "metadata": {
        "id": "R4MHrmoH2Y6p"
      },
      "source": [
        "X_new = [[0.02731, 0.0, 7.07, 0, 0.469, 6.421, 78.900002, 4.9671, 2, \n",
        "          242, 17.799999, 396.899994, 9.14],\n",
        "         [0.67671, 0.8, 5.56, 0, 0.567, 3.132, 60.678976, 2.3465, 3, \n",
        "          432,  9.546666, 342.435664, 3.23], \n",
        "         [0.05641, 0.0, 1.04, 1, 0.232, 4.322, 67.564646, 1.5678, 5, \n",
        "          567, 15.898006, 224.655678, 5.84]]"
      ],
      "execution_count": null,
      "outputs": []
    },
    {
      "cell_type": "code",
      "metadata": {
        "id": "BaT4URV92Y6s",
        "colab": {
          "base_uri": "https://localhost:8080/"
        },
        "outputId": "f3d3a9b6-001f-48f7-e21d-e6b556729156"
      },
      "source": [
        "lin_reg.predict(X_new)"
      ],
      "execution_count": null,
      "outputs": [
        {
          "output_type": "stream",
          "name": "stderr",
          "text": [
            "/usr/local/lib/python3.7/dist-packages/sklearn/base.py:446: UserWarning: X does not have valid feature names, but LinearRegression was fitted with feature names\n",
            "  \"X does not have valid feature names, but\"\n"
          ]
        },
        {
          "output_type": "execute_result",
          "data": {
            "text/plain": [
              "array([25.02556341, 22.96398145, 27.65635662])"
            ]
          },
          "metadata": {},
          "execution_count": 12
        }
      ]
    },
    {
      "cell_type": "markdown",
      "metadata": {
        "id": "_HCwAVDG2Y6v"
      },
      "source": [
        "Também é possível visualizarmos os coeficientes da reta para cada atributo"
      ]
    },
    {
      "cell_type": "code",
      "metadata": {
        "id": "4DusJ5962Y6w",
        "colab": {
          "base_uri": "https://localhost:8080/"
        },
        "outputId": "924e74a0-1ec0-4444-f30c-c95ee18399bb"
      },
      "source": [
        "lin_reg.coef_"
      ],
      "execution_count": null,
      "outputs": [
        {
          "output_type": "execute_result",
          "data": {
            "text/plain": [
              "array([-1.08011353e-01,  4.64204559e-02,  2.05586761e-02,  2.68673389e+00,\n",
              "       -1.77666149e+01,  3.80986498e+00,  6.92223926e-04, -1.47556679e+00,\n",
              "        3.06049515e-01, -1.23345932e-02, -9.52747256e-01,  9.31168341e-03,\n",
              "       -5.24758397e-01])"
            ]
          },
          "metadata": {},
          "execution_count": 13
        }
      ]
    },
    {
      "cell_type": "markdown",
      "metadata": {
        "id": "J-h8FIXR2Y6x"
      },
      "source": [
        "e o valor do bias:"
      ]
    },
    {
      "cell_type": "code",
      "metadata": {
        "id": "qcZgvwpK2Y6y",
        "colab": {
          "base_uri": "https://localhost:8080/"
        },
        "outputId": "6828c05d-8d7e-4416-9f0e-ee96a2c2caf7"
      },
      "source": [
        "lin_reg.intercept_"
      ],
      "execution_count": null,
      "outputs": [
        {
          "output_type": "execute_result",
          "data": {
            "text/plain": [
              "36.45949145783325"
            ]
          },
          "metadata": {},
          "execution_count": 14
        }
      ]
    },
    {
      "cell_type": "markdown",
      "metadata": {
        "id": "ruecb0q32Y6z"
      },
      "source": [
        "Também podemos calcular o erro médio quadrado (MSE) do nosso modelo durante o treinamento"
      ]
    },
    {
      "cell_type": "code",
      "metadata": {
        "id": "qeyZzn1L2Y60",
        "colab": {
          "base_uri": "https://localhost:8080/"
        },
        "outputId": "2677002c-693e-4f23-f60b-469d56715973"
      },
      "source": [
        "mean_squared_error(lin_reg.predict(X), y)"
      ],
      "execution_count": null,
      "outputs": [
        {
          "output_type": "execute_result",
          "data": {
            "text/plain": [
              "21.894831188831237"
            ]
          },
          "metadata": {},
          "execution_count": 15
        }
      ]
    },
    {
      "cell_type": "markdown",
      "metadata": {
        "id": "1KvAKN5y6IFT"
      },
      "source": [
        "\n",
        "**[Desafio II]** Agora que vimos mais um exeplo de uso de regressão linear, você consegue adaptar o exposto para uso de uma técnica de árvore de decisão, como visto no exemplo feito em sala?"
      ]
    },
    {
      "cell_type": "markdown",
      "source": [
        "**Passo 1**\n",
        "\n",
        "Criar dados de treinamento e de teste"
      ],
      "metadata": {
        "id": "YZd9imTFmuO4"
      }
    },
    {
      "cell_type": "code",
      "source": [
        "# data.dtypes\n",
        "cut_labels_CRIM = ['extremamente baixo', 'baixo', 'medio', 'alto', 'extremamente alto']\n",
        "cut_bins = [0, 10, 20, 40, 60, 80]\n",
        "data['CRIMCategorizado'] = pd.cut(data['CRIM'], bins=cut_bins, labels=cut_labels_CRIM)\n",
        "cut_labels_ZN = ['0', '20', '40', '60', '80']\n",
        "cut_bins = [0.0, 20, 40, 60, 80, 100]\n",
        "data['ZNCategorizado'] = pd.cut(data['ZN'], bins=cut_bins, labels=cut_labels_ZN)\n",
        "# data['teste'] = pd.cut(data['CRIM'], bins=10)\n",
        "data"
      ],
      "metadata": {
        "colab": {
          "base_uri": "https://localhost:8080/",
          "height": 661
        },
        "id": "iWbhYKCayWj1",
        "outputId": "e5914d68-5036-4b1b-d273-ad3e7ab47080"
      },
      "execution_count": null,
      "outputs": [
        {
          "output_type": "execute_result",
          "data": {
            "text/html": [
              "\n",
              "  <div id=\"df-881e10e4-04bf-4a15-95c4-a2ec464bb7d8\">\n",
              "    <div class=\"colab-df-container\">\n",
              "      <div>\n",
              "<style scoped>\n",
              "    .dataframe tbody tr th:only-of-type {\n",
              "        vertical-align: middle;\n",
              "    }\n",
              "\n",
              "    .dataframe tbody tr th {\n",
              "        vertical-align: top;\n",
              "    }\n",
              "\n",
              "    .dataframe thead th {\n",
              "        text-align: right;\n",
              "    }\n",
              "</style>\n",
              "<table border=\"1\" class=\"dataframe\">\n",
              "  <thead>\n",
              "    <tr style=\"text-align: right;\">\n",
              "      <th></th>\n",
              "      <th>CRIM</th>\n",
              "      <th>ZN</th>\n",
              "      <th>INDUS</th>\n",
              "      <th>CHAS</th>\n",
              "      <th>NOX</th>\n",
              "      <th>RM</th>\n",
              "      <th>AGE</th>\n",
              "      <th>DIS</th>\n",
              "      <th>RAD</th>\n",
              "      <th>TAX</th>\n",
              "      <th>PT</th>\n",
              "      <th>B</th>\n",
              "      <th>LSTAT</th>\n",
              "      <th>MV</th>\n",
              "      <th>teste</th>\n",
              "      <th>CrimeCategorizado</th>\n",
              "      <th>CRIMCategorizado</th>\n",
              "      <th>ZNCategorizado</th>\n",
              "    </tr>\n",
              "  </thead>\n",
              "  <tbody>\n",
              "    <tr>\n",
              "      <th>0</th>\n",
              "      <td>0.00632</td>\n",
              "      <td>18.0</td>\n",
              "      <td>2.31</td>\n",
              "      <td>0</td>\n",
              "      <td>0.538</td>\n",
              "      <td>6.575</td>\n",
              "      <td>65.199997</td>\n",
              "      <td>4.0900</td>\n",
              "      <td>1</td>\n",
              "      <td>296</td>\n",
              "      <td>15.300000</td>\n",
              "      <td>396.899994</td>\n",
              "      <td>4.98</td>\n",
              "      <td>24.000000</td>\n",
              "      <td>(-0.0826, 8.903]</td>\n",
              "      <td>extremamente baixo</td>\n",
              "      <td>extremamente baixo</td>\n",
              "      <td>0</td>\n",
              "    </tr>\n",
              "    <tr>\n",
              "      <th>1</th>\n",
              "      <td>0.02731</td>\n",
              "      <td>0.0</td>\n",
              "      <td>7.07</td>\n",
              "      <td>0</td>\n",
              "      <td>0.469</td>\n",
              "      <td>6.421</td>\n",
              "      <td>78.900002</td>\n",
              "      <td>4.9671</td>\n",
              "      <td>2</td>\n",
              "      <td>242</td>\n",
              "      <td>17.799999</td>\n",
              "      <td>396.899994</td>\n",
              "      <td>9.14</td>\n",
              "      <td>21.600000</td>\n",
              "      <td>(-0.0826, 8.903]</td>\n",
              "      <td>extremamente baixo</td>\n",
              "      <td>extremamente baixo</td>\n",
              "      <td>NaN</td>\n",
              "    </tr>\n",
              "    <tr>\n",
              "      <th>2</th>\n",
              "      <td>0.02729</td>\n",
              "      <td>0.0</td>\n",
              "      <td>7.07</td>\n",
              "      <td>0</td>\n",
              "      <td>0.469</td>\n",
              "      <td>7.185</td>\n",
              "      <td>61.099998</td>\n",
              "      <td>4.9671</td>\n",
              "      <td>2</td>\n",
              "      <td>242</td>\n",
              "      <td>17.799999</td>\n",
              "      <td>392.829987</td>\n",
              "      <td>4.03</td>\n",
              "      <td>34.700001</td>\n",
              "      <td>(-0.0826, 8.903]</td>\n",
              "      <td>extremamente baixo</td>\n",
              "      <td>extremamente baixo</td>\n",
              "      <td>NaN</td>\n",
              "    </tr>\n",
              "    <tr>\n",
              "      <th>3</th>\n",
              "      <td>0.03237</td>\n",
              "      <td>0.0</td>\n",
              "      <td>2.18</td>\n",
              "      <td>0</td>\n",
              "      <td>0.458</td>\n",
              "      <td>6.998</td>\n",
              "      <td>45.799999</td>\n",
              "      <td>6.0622</td>\n",
              "      <td>3</td>\n",
              "      <td>222</td>\n",
              "      <td>18.700001</td>\n",
              "      <td>394.630005</td>\n",
              "      <td>2.94</td>\n",
              "      <td>33.400002</td>\n",
              "      <td>(-0.0826, 8.903]</td>\n",
              "      <td>extremamente baixo</td>\n",
              "      <td>extremamente baixo</td>\n",
              "      <td>NaN</td>\n",
              "    </tr>\n",
              "    <tr>\n",
              "      <th>4</th>\n",
              "      <td>0.06905</td>\n",
              "      <td>0.0</td>\n",
              "      <td>2.18</td>\n",
              "      <td>0</td>\n",
              "      <td>0.458</td>\n",
              "      <td>7.147</td>\n",
              "      <td>54.200001</td>\n",
              "      <td>6.0622</td>\n",
              "      <td>3</td>\n",
              "      <td>222</td>\n",
              "      <td>18.700001</td>\n",
              "      <td>396.899994</td>\n",
              "      <td>5.33</td>\n",
              "      <td>36.200001</td>\n",
              "      <td>(-0.0826, 8.903]</td>\n",
              "      <td>extremamente baixo</td>\n",
              "      <td>extremamente baixo</td>\n",
              "      <td>NaN</td>\n",
              "    </tr>\n",
              "    <tr>\n",
              "      <th>...</th>\n",
              "      <td>...</td>\n",
              "      <td>...</td>\n",
              "      <td>...</td>\n",
              "      <td>...</td>\n",
              "      <td>...</td>\n",
              "      <td>...</td>\n",
              "      <td>...</td>\n",
              "      <td>...</td>\n",
              "      <td>...</td>\n",
              "      <td>...</td>\n",
              "      <td>...</td>\n",
              "      <td>...</td>\n",
              "      <td>...</td>\n",
              "      <td>...</td>\n",
              "      <td>...</td>\n",
              "      <td>...</td>\n",
              "      <td>...</td>\n",
              "      <td>...</td>\n",
              "    </tr>\n",
              "    <tr>\n",
              "      <th>501</th>\n",
              "      <td>0.06263</td>\n",
              "      <td>0.0</td>\n",
              "      <td>11.93</td>\n",
              "      <td>0</td>\n",
              "      <td>0.573</td>\n",
              "      <td>6.593</td>\n",
              "      <td>69.099998</td>\n",
              "      <td>2.4786</td>\n",
              "      <td>1</td>\n",
              "      <td>273</td>\n",
              "      <td>21.000000</td>\n",
              "      <td>391.989990</td>\n",
              "      <td>9.67</td>\n",
              "      <td>22.400000</td>\n",
              "      <td>(-0.0826, 8.903]</td>\n",
              "      <td>extremamente baixo</td>\n",
              "      <td>extremamente baixo</td>\n",
              "      <td>NaN</td>\n",
              "    </tr>\n",
              "    <tr>\n",
              "      <th>502</th>\n",
              "      <td>0.04527</td>\n",
              "      <td>0.0</td>\n",
              "      <td>11.93</td>\n",
              "      <td>0</td>\n",
              "      <td>0.573</td>\n",
              "      <td>6.120</td>\n",
              "      <td>76.699997</td>\n",
              "      <td>2.2875</td>\n",
              "      <td>1</td>\n",
              "      <td>273</td>\n",
              "      <td>21.000000</td>\n",
              "      <td>396.899994</td>\n",
              "      <td>9.08</td>\n",
              "      <td>20.600000</td>\n",
              "      <td>(-0.0826, 8.903]</td>\n",
              "      <td>extremamente baixo</td>\n",
              "      <td>extremamente baixo</td>\n",
              "      <td>NaN</td>\n",
              "    </tr>\n",
              "    <tr>\n",
              "      <th>503</th>\n",
              "      <td>0.06076</td>\n",
              "      <td>0.0</td>\n",
              "      <td>11.93</td>\n",
              "      <td>0</td>\n",
              "      <td>0.573</td>\n",
              "      <td>6.976</td>\n",
              "      <td>91.000000</td>\n",
              "      <td>2.1675</td>\n",
              "      <td>1</td>\n",
              "      <td>273</td>\n",
              "      <td>21.000000</td>\n",
              "      <td>396.899994</td>\n",
              "      <td>5.64</td>\n",
              "      <td>23.900000</td>\n",
              "      <td>(-0.0826, 8.903]</td>\n",
              "      <td>extremamente baixo</td>\n",
              "      <td>extremamente baixo</td>\n",
              "      <td>NaN</td>\n",
              "    </tr>\n",
              "    <tr>\n",
              "      <th>504</th>\n",
              "      <td>0.10959</td>\n",
              "      <td>0.0</td>\n",
              "      <td>11.93</td>\n",
              "      <td>0</td>\n",
              "      <td>0.573</td>\n",
              "      <td>6.794</td>\n",
              "      <td>89.300003</td>\n",
              "      <td>2.3889</td>\n",
              "      <td>1</td>\n",
              "      <td>273</td>\n",
              "      <td>21.000000</td>\n",
              "      <td>393.450012</td>\n",
              "      <td>6.48</td>\n",
              "      <td>22.000000</td>\n",
              "      <td>(-0.0826, 8.903]</td>\n",
              "      <td>extremamente baixo</td>\n",
              "      <td>extremamente baixo</td>\n",
              "      <td>NaN</td>\n",
              "    </tr>\n",
              "    <tr>\n",
              "      <th>505</th>\n",
              "      <td>0.04741</td>\n",
              "      <td>0.0</td>\n",
              "      <td>11.93</td>\n",
              "      <td>0</td>\n",
              "      <td>0.573</td>\n",
              "      <td>6.030</td>\n",
              "      <td>80.800003</td>\n",
              "      <td>2.5050</td>\n",
              "      <td>1</td>\n",
              "      <td>273</td>\n",
              "      <td>21.000000</td>\n",
              "      <td>396.899994</td>\n",
              "      <td>7.88</td>\n",
              "      <td>11.900000</td>\n",
              "      <td>(-0.0826, 8.903]</td>\n",
              "      <td>extremamente baixo</td>\n",
              "      <td>extremamente baixo</td>\n",
              "      <td>NaN</td>\n",
              "    </tr>\n",
              "  </tbody>\n",
              "</table>\n",
              "<p>506 rows × 18 columns</p>\n",
              "</div>\n",
              "      <button class=\"colab-df-convert\" onclick=\"convertToInteractive('df-881e10e4-04bf-4a15-95c4-a2ec464bb7d8')\"\n",
              "              title=\"Convert this dataframe to an interactive table.\"\n",
              "              style=\"display:none;\">\n",
              "        \n",
              "  <svg xmlns=\"http://www.w3.org/2000/svg\" height=\"24px\"viewBox=\"0 0 24 24\"\n",
              "       width=\"24px\">\n",
              "    <path d=\"M0 0h24v24H0V0z\" fill=\"none\"/>\n",
              "    <path d=\"M18.56 5.44l.94 2.06.94-2.06 2.06-.94-2.06-.94-.94-2.06-.94 2.06-2.06.94zm-11 1L8.5 8.5l.94-2.06 2.06-.94-2.06-.94L8.5 2.5l-.94 2.06-2.06.94zm10 10l.94 2.06.94-2.06 2.06-.94-2.06-.94-.94-2.06-.94 2.06-2.06.94z\"/><path d=\"M17.41 7.96l-1.37-1.37c-.4-.4-.92-.59-1.43-.59-.52 0-1.04.2-1.43.59L10.3 9.45l-7.72 7.72c-.78.78-.78 2.05 0 2.83L4 21.41c.39.39.9.59 1.41.59.51 0 1.02-.2 1.41-.59l7.78-7.78 2.81-2.81c.8-.78.8-2.07 0-2.86zM5.41 20L4 18.59l7.72-7.72 1.47 1.35L5.41 20z\"/>\n",
              "  </svg>\n",
              "      </button>\n",
              "      \n",
              "  <style>\n",
              "    .colab-df-container {\n",
              "      display:flex;\n",
              "      flex-wrap:wrap;\n",
              "      gap: 12px;\n",
              "    }\n",
              "\n",
              "    .colab-df-convert {\n",
              "      background-color: #E8F0FE;\n",
              "      border: none;\n",
              "      border-radius: 50%;\n",
              "      cursor: pointer;\n",
              "      display: none;\n",
              "      fill: #1967D2;\n",
              "      height: 32px;\n",
              "      padding: 0 0 0 0;\n",
              "      width: 32px;\n",
              "    }\n",
              "\n",
              "    .colab-df-convert:hover {\n",
              "      background-color: #E2EBFA;\n",
              "      box-shadow: 0px 1px 2px rgba(60, 64, 67, 0.3), 0px 1px 3px 1px rgba(60, 64, 67, 0.15);\n",
              "      fill: #174EA6;\n",
              "    }\n",
              "\n",
              "    [theme=dark] .colab-df-convert {\n",
              "      background-color: #3B4455;\n",
              "      fill: #D2E3FC;\n",
              "    }\n",
              "\n",
              "    [theme=dark] .colab-df-convert:hover {\n",
              "      background-color: #434B5C;\n",
              "      box-shadow: 0px 1px 3px 1px rgba(0, 0, 0, 0.15);\n",
              "      filter: drop-shadow(0px 1px 2px rgba(0, 0, 0, 0.3));\n",
              "      fill: #FFFFFF;\n",
              "    }\n",
              "  </style>\n",
              "\n",
              "      <script>\n",
              "        const buttonEl =\n",
              "          document.querySelector('#df-881e10e4-04bf-4a15-95c4-a2ec464bb7d8 button.colab-df-convert');\n",
              "        buttonEl.style.display =\n",
              "          google.colab.kernel.accessAllowed ? 'block' : 'none';\n",
              "\n",
              "        async function convertToInteractive(key) {\n",
              "          const element = document.querySelector('#df-881e10e4-04bf-4a15-95c4-a2ec464bb7d8');\n",
              "          const dataTable =\n",
              "            await google.colab.kernel.invokeFunction('convertToInteractive',\n",
              "                                                     [key], {});\n",
              "          if (!dataTable) return;\n",
              "\n",
              "          const docLinkHtml = 'Like what you see? Visit the ' +\n",
              "            '<a target=\"_blank\" href=https://colab.research.google.com/notebooks/data_table.ipynb>data table notebook</a>'\n",
              "            + ' to learn more about interactive tables.';\n",
              "          element.innerHTML = '';\n",
              "          dataTable['output_type'] = 'display_data';\n",
              "          await google.colab.output.renderOutput(dataTable, element);\n",
              "          const docLink = document.createElement('div');\n",
              "          docLink.innerHTML = docLinkHtml;\n",
              "          element.appendChild(docLink);\n",
              "        }\n",
              "      </script>\n",
              "    </div>\n",
              "  </div>\n",
              "  "
            ],
            "text/plain": [
              "        CRIM    ZN  ...    CRIMCategorizado  ZNCategorizado\n",
              "0    0.00632  18.0  ...  extremamente baixo               0\n",
              "1    0.02731   0.0  ...  extremamente baixo             NaN\n",
              "2    0.02729   0.0  ...  extremamente baixo             NaN\n",
              "3    0.03237   0.0  ...  extremamente baixo             NaN\n",
              "4    0.06905   0.0  ...  extremamente baixo             NaN\n",
              "..       ...   ...  ...                 ...             ...\n",
              "501  0.06263   0.0  ...  extremamente baixo             NaN\n",
              "502  0.04527   0.0  ...  extremamente baixo             NaN\n",
              "503  0.06076   0.0  ...  extremamente baixo             NaN\n",
              "504  0.10959   0.0  ...  extremamente baixo             NaN\n",
              "505  0.04741   0.0  ...  extremamente baixo             NaN\n",
              "\n",
              "[506 rows x 18 columns]"
            ]
          },
          "metadata": {},
          "execution_count": 48
        }
      ]
    },
    {
      "cell_type": "markdown",
      "source": [
        "**Análise Inicial**\n",
        "\n",
        "Acredito que não seja possível usar o modelo de Árvore de Decisão para  Dataset em questão pelos seguintes motivos:\n",
        "\n",
        "\n",
        "\n",
        "1.   Temos vários valores contínuos, que precisariam ser transformados em valores categóricos, para aí sim, podermos implantar o modelo. Analisando os dados iniciais podemos perceber que os dados em diversas variáveis acabam sendo concentradas em uma categoria, o que cria uma tendência de classificação enviesada do modelo.\n",
        "Podemos perceber esta tendência nas seguintes colunas de dados:\n",
        "\n",
        "![crim.png](data:image/png;base64,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)\n",
        "![zn.png](data:image/png;base64,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)\n",
        "![indus.png](data:image/png;base64,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)\n",
        "![chas.png](data:image/png;base64,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)\n",
        "2. A meu ver, estas variáveis são importanes para a categorização correta dos novos elementos a classificar.\n",
        "3. Os elementos contínuos não podem ser removidos do Dataset sem prejuízo da correta classificação. \n",
        "\n"
      ],
      "metadata": {
        "id": "7SCD2fUDqUTi"
      }
    }
  ]
}